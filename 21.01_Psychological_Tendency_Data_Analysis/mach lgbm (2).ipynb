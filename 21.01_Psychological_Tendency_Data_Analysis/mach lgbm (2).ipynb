{
 "cells": [
  {
   "cell_type": "markdown",
   "metadata": {},
   "source": [
    "### 1. 패키지 불러오기"
   ]
  },
  {
   "cell_type": "code",
   "execution_count": 384,
   "metadata": {},
   "outputs": [],
   "source": [
    "import warnings # 경고창 무시\n",
    "warnings.filterwarnings(\"ignore\")\n",
    "import time\n",
    "\n",
    "from lightgbm import LGBMClassifier\n",
    "\n",
    "import numpy as np\n",
    "import pandas as pd\n",
    "import matplotlib.pyplot as plt # 데이터 시각화\n",
    "import seaborn as sns # 통계적 데이터 시각화\n",
    "\n",
    "from sklearn.datasets import make_classification\n",
    "\n",
    "import lightgbm as lgb\n",
    "from sklearn.model_selection import train_test_split\n",
    "from sklearn.metrics import accuracy_score\n",
    "from sklearn.metrics import confusion_matrix\n",
    "from sklearn.metrics import classification_report\n",
    "from sklearn.model_selection import GridSearchCV\n",
    "\n"
   ]
  },
  {
   "cell_type": "code",
   "execution_count": 385,
   "metadata": {},
   "outputs": [],
   "source": [
    "from sklearn.model_selection import cross_validate\n",
    "from sklearn.metrics import accuracy_score, precision_score, recall_score\n",
    "\n",
    "import graphviz\n",
    "import matplotlib.pyplot as plt\n",
    "plt.style.use(['seaborn-whitegrid'])"
   ]
  },
  {
   "cell_type": "code",
   "execution_count": 386,
   "metadata": {},
   "outputs": [],
   "source": [
    "from lightgbm import LGBMRegressor\n",
    "from lightgbm import plot_importance, plot_metric, plot_tree"
   ]
  },
  {
   "cell_type": "code",
   "execution_count": 1068,
   "metadata": {},
   "outputs": [],
   "source": [
    "from sklearn.metrics import make_scorer, accuracy_score, precision_score, recall_score, f1_score, roc_auc_score"
   ]
  },
  {
   "cell_type": "code",
   "execution_count": 1206,
   "metadata": {},
   "outputs": [],
   "source": [
    "train=pd.read_csv(\"C:/Users/SAMSUNG/Desktop/비어플/팀프로젝트 - 심리 성향 예측/open data/train_f.csv\",index_col=[0])\n",
    "test=pd.read_csv(\"C:/Users/SAMSUNG/Desktop/비어플/팀프로젝트 - 심리 성향 예측/open data/test_f.csv\",index_col=[0])\n",
    "submission=pd.read_csv(\"C:/Users/SAMSUNG/Desktop/비어플/팀프로젝트 - 심리 성향 예측/open data/sample_submission.csv\",index_col=[0])"
   ]
  },
  {
   "cell_type": "code",
   "execution_count": 1207,
   "metadata": {},
   "outputs": [
    {
     "name": "stdout",
     "output_type": "stream",
     "text": [
      "age_group       int64\n",
      "education       int64\n",
      "engnat          int64\n",
      "familysize      int64\n",
      "gender          int64\n",
      "married         int64\n",
      "race            int64\n",
      "religion        int64\n",
      "urban           int64\n",
      "voted           int64\n",
      "wr_mean       float64\n",
      "Mach_score    float64\n",
      "Op            float64\n",
      "Co            float64\n",
      "Ne            float64\n",
      "dtype: object\n"
     ]
    }
   ],
   "source": [
    "print(train.dtypes)"
   ]
  },
  {
   "cell_type": "code",
   "execution_count": 1208,
   "metadata": {},
   "outputs": [
    {
     "name": "stdout",
     "output_type": "stream",
     "text": [
      "age_group       int64\n",
      "education       int64\n",
      "engnat          int64\n",
      "familysize      int64\n",
      "gender          int64\n",
      "married         int64\n",
      "race            int64\n",
      "religion        int64\n",
      "urban           int64\n",
      "wr_mean       float64\n",
      "Mach_score    float64\n",
      "Op            float64\n",
      "Co            float64\n",
      "Ne            float64\n",
      "dtype: object\n"
     ]
    }
   ],
   "source": [
    "print(test.dtypes)"
   ]
  },
  {
   "cell_type": "code",
   "execution_count": 1209,
   "metadata": {},
   "outputs": [],
   "source": [
    "train['education']=train['education'].astype('category')\n",
    "train['age_group']=train['age_group'].astype('category')\n",
    "train['race']=train['race'].astype('category')\n",
    "train['religion']=train['religion'].astype('category')\n",
    "train['urban']=train['urban'].astype('category')\n",
    "train['voted']=train['voted'].astype('category')\n",
    "train['engnat']=train['engnat'].astype('category')\n",
    "train['gender']=train['gender'].astype('category')\n",
    "train['married']=train['married'].astype('category')\n",
    "#train['hand']=train['hand'].astype('category')\n",
    "\n",
    "\n",
    "test['education']=test['education'].astype('category')\n",
    "test['age_group']=test['age_group'].astype('category')\n",
    "test['race']=test['race'].astype('category')\n",
    "test['religion']=test['religion'].astype('category')\n",
    "test['urban']=test['urban'].astype('category')\n",
    "test['engnat']=test['engnat'].astype('category')\n",
    "test['engnat']=test['engnat'].astype('category')\n",
    "test['gender']=test['gender'].astype('category')\n",
    "test['married']=test['married'].astype('category')\n",
    "#test['hand']=test['hand'].astype('category')\n"
   ]
  },
  {
   "cell_type": "code",
   "execution_count": 1210,
   "metadata": {},
   "outputs": [
    {
     "name": "stdout",
     "output_type": "stream",
     "text": [
      "age_group     category\n",
      "education     category\n",
      "engnat        category\n",
      "familysize       int64\n",
      "gender        category\n",
      "married       category\n",
      "race          category\n",
      "religion      category\n",
      "urban         category\n",
      "voted         category\n",
      "wr_mean        float64\n",
      "Mach_score     float64\n",
      "Op             float64\n",
      "Co             float64\n",
      "Ne             float64\n",
      "dtype: object\n"
     ]
    }
   ],
   "source": [
    "print(train.dtypes)"
   ]
  },
  {
   "cell_type": "code",
   "execution_count": 1211,
   "metadata": {},
   "outputs": [
    {
     "name": "stdout",
     "output_type": "stream",
     "text": [
      "age_group     category\n",
      "education     category\n",
      "engnat        category\n",
      "familysize       int64\n",
      "gender        category\n",
      "married       category\n",
      "race          category\n",
      "religion      category\n",
      "urban         category\n",
      "wr_mean        float64\n",
      "Mach_score     float64\n",
      "Op             float64\n",
      "Co             float64\n",
      "Ne             float64\n",
      "dtype: object\n"
     ]
    }
   ],
   "source": [
    "print(test.dtypes)"
   ]
  },
  {
   "cell_type": "code",
   "execution_count": 1212,
   "metadata": {},
   "outputs": [],
   "source": [
    "X_train = train.drop(['voted'],axis=1)\n",
    "y_train = train['voted']"
   ]
  },
  {
   "cell_type": "code",
   "execution_count": 1213,
   "metadata": {},
   "outputs": [],
   "source": [
    "X_train, X_valid, y_train, y_valid = train_test_split(X_train, y_train, test_size=0.2, random_state=1234)"
   ]
  },
  {
   "cell_type": "markdown",
   "metadata": {},
   "source": [
    "### 3. LGBM 모델 생성"
   ]
  },
  {
   "cell_type": "code",
   "execution_count": 1214,
   "metadata": {},
   "outputs": [],
   "source": [
    "#파라미터 적용\n",
    "model = lgb.LGBMClassifier(boosting_type='gbdt',\n",
    "                          num_leaves=30,\n",
    "                          max_depth=7,\n",
    "                          learning_rate=0.05,\n",
    "                          n_estimators=120,\n",
    "                          subsample_for_bin=200000,\n",
    "                          objective='binary', #default=None\n",
    "                          metric='binary_logloss',\n",
    "                          min_split_gain=0,\n",
    "                          min_child_weight=1e-3,\n",
    "                          min_child_samples=20,\n",
    "                          subsample=1,\n",
    "                          subsample_freq=0,\n",
    "                          colsample_bytree=1,\n",
    "                          reg_alpha=0,\n",
    "                          reg_lambda=0,\n",
    "                          random_state=None,\n",
    "                          silent=True,\n",
    "                          importance_type='split')"
   ]
  },
  {
   "cell_type": "code",
   "execution_count": 1215,
   "metadata": {
    "scrolled": true
   },
   "outputs": [
    {
     "name": "stdout",
     "output_type": "stream",
     "text": [
      "[1]\tvalid_0's auc: 0.819889\tvalid_0's binary_logloss: 0.655909\n",
      "Training until validation scores don't improve for 80 rounds\n",
      "[2]\tvalid_0's auc: 0.820329\tvalid_0's binary_logloss: 0.640869\n",
      "[3]\tvalid_0's auc: 0.821522\tvalid_0's binary_logloss: 0.627065\n",
      "[4]\tvalid_0's auc: 0.821578\tvalid_0's binary_logloss: 0.614561\n",
      "[5]\tvalid_0's auc: 0.821299\tvalid_0's binary_logloss: 0.603079\n",
      "[6]\tvalid_0's auc: 0.82165\tvalid_0's binary_logloss: 0.59254\n",
      "[7]\tvalid_0's auc: 0.821476\tvalid_0's binary_logloss: 0.582848\n",
      "[8]\tvalid_0's auc: 0.821683\tvalid_0's binary_logloss: 0.573944\n",
      "[9]\tvalid_0's auc: 0.822007\tvalid_0's binary_logloss: 0.565774\n",
      "[10]\tvalid_0's auc: 0.822434\tvalid_0's binary_logloss: 0.558124\n",
      "[11]\tvalid_0's auc: 0.822304\tvalid_0's binary_logloss: 0.551096\n",
      "[12]\tvalid_0's auc: 0.822524\tvalid_0's binary_logloss: 0.544601\n",
      "[13]\tvalid_0's auc: 0.822654\tvalid_0's binary_logloss: 0.538601\n",
      "[14]\tvalid_0's auc: 0.82283\tvalid_0's binary_logloss: 0.533\n",
      "[15]\tvalid_0's auc: 0.823197\tvalid_0's binary_logloss: 0.527721\n",
      "[16]\tvalid_0's auc: 0.823252\tvalid_0's binary_logloss: 0.522878\n",
      "[17]\tvalid_0's auc: 0.823347\tvalid_0's binary_logloss: 0.518344\n",
      "[18]\tvalid_0's auc: 0.823772\tvalid_0's binary_logloss: 0.514077\n",
      "[19]\tvalid_0's auc: 0.823849\tvalid_0's binary_logloss: 0.510154\n",
      "[20]\tvalid_0's auc: 0.823855\tvalid_0's binary_logloss: 0.506502\n",
      "[21]\tvalid_0's auc: 0.824254\tvalid_0's binary_logloss: 0.502995\n",
      "[22]\tvalid_0's auc: 0.824264\tvalid_0's binary_logloss: 0.499807\n",
      "[23]\tvalid_0's auc: 0.824449\tvalid_0's binary_logloss: 0.496755\n",
      "[24]\tvalid_0's auc: 0.824685\tvalid_0's binary_logloss: 0.493856\n",
      "[25]\tvalid_0's auc: 0.82495\tvalid_0's binary_logloss: 0.491151\n",
      "[26]\tvalid_0's auc: 0.824908\tvalid_0's binary_logloss: 0.488732\n",
      "[27]\tvalid_0's auc: 0.824906\tvalid_0's binary_logloss: 0.486427\n",
      "[28]\tvalid_0's auc: 0.825025\tvalid_0's binary_logloss: 0.484217\n",
      "[29]\tvalid_0's auc: 0.825105\tvalid_0's binary_logloss: 0.482149\n",
      "[30]\tvalid_0's auc: 0.825458\tvalid_0's binary_logloss: 0.480159\n",
      "[31]\tvalid_0's auc: 0.825677\tvalid_0's binary_logloss: 0.478295\n",
      "[32]\tvalid_0's auc: 0.825896\tvalid_0's binary_logloss: 0.476496\n",
      "[33]\tvalid_0's auc: 0.826052\tvalid_0's binary_logloss: 0.474834\n",
      "[34]\tvalid_0's auc: 0.826166\tvalid_0's binary_logloss: 0.473289\n",
      "[35]\tvalid_0's auc: 0.826181\tvalid_0's binary_logloss: 0.471889\n",
      "[36]\tvalid_0's auc: 0.826238\tvalid_0's binary_logloss: 0.470538\n",
      "[37]\tvalid_0's auc: 0.826463\tvalid_0's binary_logloss: 0.469246\n",
      "[38]\tvalid_0's auc: 0.826429\tvalid_0's binary_logloss: 0.468065\n",
      "[39]\tvalid_0's auc: 0.826685\tvalid_0's binary_logloss: 0.466896\n",
      "[40]\tvalid_0's auc: 0.826678\tvalid_0's binary_logloss: 0.465841\n",
      "[41]\tvalid_0's auc: 0.826726\tvalid_0's binary_logloss: 0.464847\n",
      "[42]\tvalid_0's auc: 0.826687\tvalid_0's binary_logloss: 0.463926\n",
      "[43]\tvalid_0's auc: 0.826771\tvalid_0's binary_logloss: 0.462999\n",
      "[44]\tvalid_0's auc: 0.826731\tvalid_0's binary_logloss: 0.462176\n",
      "[45]\tvalid_0's auc: 0.826802\tvalid_0's binary_logloss: 0.461367\n",
      "[46]\tvalid_0's auc: 0.82673\tvalid_0's binary_logloss: 0.460666\n",
      "[47]\tvalid_0's auc: 0.826703\tvalid_0's binary_logloss: 0.45996\n",
      "[48]\tvalid_0's auc: 0.826735\tvalid_0's binary_logloss: 0.459277\n",
      "[49]\tvalid_0's auc: 0.826731\tvalid_0's binary_logloss: 0.45865\n",
      "[50]\tvalid_0's auc: 0.826693\tvalid_0's binary_logloss: 0.45809\n",
      "[51]\tvalid_0's auc: 0.826689\tvalid_0's binary_logloss: 0.457507\n",
      "[52]\tvalid_0's auc: 0.826601\tvalid_0's binary_logloss: 0.457015\n",
      "[53]\tvalid_0's auc: 0.826559\tvalid_0's binary_logloss: 0.456538\n",
      "[54]\tvalid_0's auc: 0.826507\tvalid_0's binary_logloss: 0.456099\n",
      "[55]\tvalid_0's auc: 0.826426\tvalid_0's binary_logloss: 0.45567\n",
      "[56]\tvalid_0's auc: 0.82647\tvalid_0's binary_logloss: 0.455212\n",
      "[57]\tvalid_0's auc: 0.82655\tvalid_0's binary_logloss: 0.454785\n",
      "[58]\tvalid_0's auc: 0.826544\tvalid_0's binary_logloss: 0.454393\n",
      "[59]\tvalid_0's auc: 0.826567\tvalid_0's binary_logloss: 0.454016\n",
      "[60]\tvalid_0's auc: 0.826676\tvalid_0's binary_logloss: 0.45363\n",
      "[61]\tvalid_0's auc: 0.826616\tvalid_0's binary_logloss: 0.45329\n",
      "[62]\tvalid_0's auc: 0.826573\tvalid_0's binary_logloss: 0.452999\n",
      "[63]\tvalid_0's auc: 0.826521\tvalid_0's binary_logloss: 0.452745\n",
      "[64]\tvalid_0's auc: 0.826464\tvalid_0's binary_logloss: 0.452498\n",
      "[65]\tvalid_0's auc: 0.826406\tvalid_0's binary_logloss: 0.452251\n",
      "[66]\tvalid_0's auc: 0.826446\tvalid_0's binary_logloss: 0.451983\n",
      "[67]\tvalid_0's auc: 0.82653\tvalid_0's binary_logloss: 0.451716\n",
      "[68]\tvalid_0's auc: 0.826486\tvalid_0's binary_logloss: 0.451501\n",
      "[69]\tvalid_0's auc: 0.826479\tvalid_0's binary_logloss: 0.451318\n",
      "[70]\tvalid_0's auc: 0.826469\tvalid_0's binary_logloss: 0.451118\n",
      "[71]\tvalid_0's auc: 0.826492\tvalid_0's binary_logloss: 0.450942\n",
      "[72]\tvalid_0's auc: 0.826473\tvalid_0's binary_logloss: 0.450762\n",
      "[73]\tvalid_0's auc: 0.826479\tvalid_0's binary_logloss: 0.450571\n",
      "[74]\tvalid_0's auc: 0.826517\tvalid_0's binary_logloss: 0.45036\n",
      "[75]\tvalid_0's auc: 0.826524\tvalid_0's binary_logloss: 0.450219\n",
      "[76]\tvalid_0's auc: 0.82643\tvalid_0's binary_logloss: 0.45013\n",
      "[77]\tvalid_0's auc: 0.826488\tvalid_0's binary_logloss: 0.44997\n",
      "[78]\tvalid_0's auc: 0.82653\tvalid_0's binary_logloss: 0.449812\n",
      "[79]\tvalid_0's auc: 0.826456\tvalid_0's binary_logloss: 0.449706\n",
      "[80]\tvalid_0's auc: 0.826513\tvalid_0's binary_logloss: 0.449575\n",
      "[81]\tvalid_0's auc: 0.826469\tvalid_0's binary_logloss: 0.449474\n",
      "[82]\tvalid_0's auc: 0.826522\tvalid_0's binary_logloss: 0.449345\n",
      "[83]\tvalid_0's auc: 0.826497\tvalid_0's binary_logloss: 0.449253\n",
      "[84]\tvalid_0's auc: 0.826461\tvalid_0's binary_logloss: 0.449185\n",
      "[85]\tvalid_0's auc: 0.826519\tvalid_0's binary_logloss: 0.449086\n",
      "[86]\tvalid_0's auc: 0.826481\tvalid_0's binary_logloss: 0.449041\n",
      "[87]\tvalid_0's auc: 0.826357\tvalid_0's binary_logloss: 0.449017\n",
      "[88]\tvalid_0's auc: 0.826275\tvalid_0's binary_logloss: 0.448955\n",
      "[89]\tvalid_0's auc: 0.82625\tvalid_0's binary_logloss: 0.448873\n",
      "[90]\tvalid_0's auc: 0.826177\tvalid_0's binary_logloss: 0.448813\n",
      "[91]\tvalid_0's auc: 0.826218\tvalid_0's binary_logloss: 0.448735\n",
      "[92]\tvalid_0's auc: 0.826194\tvalid_0's binary_logloss: 0.448685\n",
      "[93]\tvalid_0's auc: 0.826097\tvalid_0's binary_logloss: 0.448666\n",
      "[94]\tvalid_0's auc: 0.826029\tvalid_0's binary_logloss: 0.448647\n",
      "[95]\tvalid_0's auc: 0.825999\tvalid_0's binary_logloss: 0.4486\n",
      "[96]\tvalid_0's auc: 0.825969\tvalid_0's binary_logloss: 0.44856\n",
      "[97]\tvalid_0's auc: 0.825998\tvalid_0's binary_logloss: 0.448505\n",
      "[98]\tvalid_0's auc: 0.826021\tvalid_0's binary_logloss: 0.448429\n",
      "[99]\tvalid_0's auc: 0.826093\tvalid_0's binary_logloss: 0.448352\n",
      "[100]\tvalid_0's auc: 0.826031\tvalid_0's binary_logloss: 0.448328\n",
      "[101]\tvalid_0's auc: 0.826121\tvalid_0's binary_logloss: 0.448248\n",
      "[102]\tvalid_0's auc: 0.826188\tvalid_0's binary_logloss: 0.44819\n",
      "[103]\tvalid_0's auc: 0.826191\tvalid_0's binary_logloss: 0.448159\n",
      "[104]\tvalid_0's auc: 0.826251\tvalid_0's binary_logloss: 0.448093\n",
      "[105]\tvalid_0's auc: 0.826068\tvalid_0's binary_logloss: 0.448128\n",
      "[106]\tvalid_0's auc: 0.826049\tvalid_0's binary_logloss: 0.448113\n",
      "[107]\tvalid_0's auc: 0.826008\tvalid_0's binary_logloss: 0.44811\n",
      "[108]\tvalid_0's auc: 0.826021\tvalid_0's binary_logloss: 0.448075\n",
      "[109]\tvalid_0's auc: 0.826047\tvalid_0's binary_logloss: 0.448023\n",
      "[110]\tvalid_0's auc: 0.82594\tvalid_0's binary_logloss: 0.448067\n",
      "[111]\tvalid_0's auc: 0.825991\tvalid_0's binary_logloss: 0.448008\n",
      "[112]\tvalid_0's auc: 0.825869\tvalid_0's binary_logloss: 0.44806\n",
      "[113]\tvalid_0's auc: 0.825866\tvalid_0's binary_logloss: 0.448052\n",
      "[114]\tvalid_0's auc: 0.825918\tvalid_0's binary_logloss: 0.448009\n",
      "[115]\tvalid_0's auc: 0.826003\tvalid_0's binary_logloss: 0.447944\n",
      "[116]\tvalid_0's auc: 0.826022\tvalid_0's binary_logloss: 0.447898\n",
      "[117]\tvalid_0's auc: 0.826035\tvalid_0's binary_logloss: 0.447852\n",
      "[118]\tvalid_0's auc: 0.826212\tvalid_0's binary_logloss: 0.447742\n",
      "[119]\tvalid_0's auc: 0.826166\tvalid_0's binary_logloss: 0.447741\n",
      "[120]\tvalid_0's auc: 0.826231\tvalid_0's binary_logloss: 0.447684\n",
      "Did not meet early stopping. Best iteration is:\n",
      "[45]\tvalid_0's auc: 0.826802\tvalid_0's binary_logloss: 0.461367\n"
     ]
    },
    {
     "data": {
      "text/plain": [
       "LGBMClassifier(colsample_bytree=1, learning_rate=0.05, max_depth=7,\n",
       "               metric='binary_logloss', min_split_gain=0, n_estimators=120,\n",
       "               num_leaves=30, objective='binary', reg_alpha=0, reg_lambda=0,\n",
       "               subsample=1)"
      ]
     },
     "execution_count": 1215,
     "metadata": {},
     "output_type": "execute_result"
    }
   ],
   "source": [
    "model.fit(X_train, y_train, eval_set=[(X_valid, y_valid)], early_stopping_rounds=80, verbose=True,eval_metric='auc')\n"
   ]
  },
  {
   "cell_type": "markdown",
   "metadata": {},
   "source": [
    "+ 정확도, 과적합 확인"
   ]
  },
  {
   "cell_type": "code",
   "execution_count": 1216,
   "metadata": {
    "scrolled": true
   },
   "outputs": [
    {
     "name": "stdout",
     "output_type": "stream",
     "text": [
      "LightGBM Model accuracy score: 0.7407\n",
      "Train set score: 0.7554\n",
      "Test set score: 0.7407\n"
     ]
    }
   ],
   "source": [
    "y_pred=model.predict(X_valid)\n",
    "accuracy=accuracy_score(y_pred, y_valid)\n",
    "# 정확도 확인\n",
    "print('LightGBM Model accuracy score: {0:0.4f}'.format(accuracy_score(y_valid, y_pred)))\n",
    "# 과적합 확인\n",
    "print('Train set score: {:.4f}'.format(model.score(X_train, y_train)))\n",
    "print('Test set score: {:.4f}'.format(model.score(X_valid, y_valid)))"
   ]
  },
  {
   "cell_type": "code",
   "execution_count": 1217,
   "metadata": {},
   "outputs": [
    {
     "name": "stdout",
     "output_type": "stream",
     "text": [
      "정확도(accuracy) : 0.7407\n",
      "Train set score: 0.7554\n",
      "Test set score: 0.7407\n",
      "정밀도(precision) : 0.6317\n",
      "재현율(recall) : 0.8377\n",
      "F1 점수 : 0.7203\n",
      "Roc_Auc score: 0.7570\n"
     ]
    }
   ],
   "source": [
    "print('정확도(accuracy) : {0:0.4f}'.format(accuracy_score(y_valid, y_pred)))\n",
    "print('Train set score: {:.4f}'.format(model.score(X_train, y_train)))\n",
    "print('Test set score: {:.4f}'.format(model.score(X_valid, y_valid)))\n",
    "print('정밀도(precision) : {0:0.4f}'.format(precision_score(y_valid, y_pred)))\n",
    "print('재현율(recall) : {0:0.4f}'.format(recall_score(y_valid, y_pred)))\n",
    "print('F1 점수 : {0:0.4f}'.format(f1_score(y_valid, y_pred)))\n",
    "print('Roc_Auc score: {0:0.4f}'.format(roc_auc_score(y_valid, y_pred)))"
   ]
  },
  {
   "cell_type": "markdown",
   "metadata": {},
   "source": [
    "+ 오차 행렬 (Confusion matrix)"
   ]
  },
  {
   "cell_type": "code",
   "execution_count": 1080,
   "metadata": {},
   "outputs": [
    {
     "data": {
      "text/html": [
       "<div>\n",
       "<style scoped>\n",
       "    .dataframe tbody tr th:only-of-type {\n",
       "        vertical-align: middle;\n",
       "    }\n",
       "\n",
       "    .dataframe tbody tr th {\n",
       "        vertical-align: top;\n",
       "    }\n",
       "\n",
       "    .dataframe thead th {\n",
       "        text-align: right;\n",
       "    }\n",
       "</style>\n",
       "<table border=\"1\" class=\"dataframe\">\n",
       "  <thead>\n",
       "    <tr style=\"text-align: right;\">\n",
       "      <th></th>\n",
       "      <th>예측 : 1</th>\n",
       "      <th>예측 : 2</th>\n",
       "    </tr>\n",
       "  </thead>\n",
       "  <tbody>\n",
       "    <tr>\n",
       "      <th>실제 : 1</th>\n",
       "      <td>2962</td>\n",
       "      <td>636</td>\n",
       "    </tr>\n",
       "    <tr>\n",
       "      <th>실제 : 2</th>\n",
       "      <td>1723</td>\n",
       "      <td>3706</td>\n",
       "    </tr>\n",
       "  </tbody>\n",
       "</table>\n",
       "</div>"
      ],
      "text/plain": [
       "        예측 : 1  예측 : 2\n",
       "실제 : 1    2962     636\n",
       "실제 : 2    1723    3706"
      ]
     },
     "execution_count": 1080,
     "metadata": {},
     "output_type": "execute_result"
    }
   ],
   "source": [
    "cm = confusion_matrix(y_valid, y_pred)\n",
    "\n",
    "cm_matrix = pd.DataFrame(data=cm, columns=['예측 : 1', '예측 : 2'], \n",
    "                                 index=['실제 : 1', '실제 : 2'])\n",
    "\n",
    "cm_matrix"
   ]
  },
  {
   "cell_type": "markdown",
   "metadata": {},
   "source": [
    "+ 분류 리포트  \n",
    "<br>\n",
    "+ 정확도: 정확히 예측한 수를 전체 샘플 수로 나눈 것\n",
    "<br>\n",
    "+ 정밀도(precision): 양성으로 예측된 것 중 얼마나 많은 샘플이 진짜 양성인지를 측정\n",
    "+ 재현율(recall): 전체 양성 샘플 중에서 얼마나 많은 샘플이 양성 클래스로 분류되는지를 측정\n",
    "+ f1-점수(f1-score): 정밀도와 재현율의 조화 평균으로, 이 둘을 하나로 요약  \n",
    "<br> \n",
    "+ 분류 리포트의 마지막 세 줄은 정밀도, 재현율, f1-점수의 평균\n",
    "    + macro avg는 단순히 클래스별 점수의 평균\n",
    "    + weighted avg는 클래스의 샘플 수로 가중평균"
   ]
  },
  {
   "cell_type": "code",
   "execution_count": 1081,
   "metadata": {
    "scrolled": true
   },
   "outputs": [
    {
     "name": "stdout",
     "output_type": "stream",
     "text": [
      "              precision    recall  f1-score   support\n",
      "\n",
      "           1       0.63      0.82      0.72      3598\n",
      "           2       0.85      0.68      0.76      5429\n",
      "\n",
      "    accuracy                           0.74      9027\n",
      "   macro avg       0.74      0.75      0.74      9027\n",
      "weighted avg       0.77      0.74      0.74      9027\n",
      "\n"
     ]
    }
   ],
   "source": [
    "print(classification_report(y_valid, y_pred))"
   ]
  },
  {
   "cell_type": "code",
   "execution_count": 1082,
   "metadata": {},
   "outputs": [
    {
     "data": {
      "text/plain": [
       "array([1, 1, 1, ..., 2, 2, 1], dtype=int64)"
      ]
     },
     "execution_count": 1082,
     "metadata": {},
     "output_type": "execute_result"
    }
   ],
   "source": [
    "preds=model.predict(X_valid)\n",
    "preds"
   ]
  },
  {
   "cell_type": "code",
   "execution_count": 1116,
   "metadata": {},
   "outputs": [
    {
     "data": {
      "text/plain": [
       "<matplotlib.axes._subplots.AxesSubplot at 0x244945cceb0>"
      ]
     },
     "execution_count": 1116,
     "metadata": {},
     "output_type": "execute_result"
    },
    {
     "data": {
      "image/png": "[encoded data removed]",
      "text/plain": [
       "<Figure size 432x288 with 1 Axes>"
      ]
     },
     "metadata": {},
     "output_type": "display_data"
    }
   ],
   "source": [
    "plot_metric(model)"
   ]
  },
  {
   "cell_type": "code",
   "execution_count": 1118,
   "metadata": {},
   "outputs": [
    {
     "data": {
      "text/plain": [
       "<matplotlib.axes._subplots.AxesSubplot at 0x2449467b7f0>"
      ]
     },
     "execution_count": 1118,
     "metadata": {},
     "output_type": "execute_result"
    },
    {
     "data": {
      "image/png": "[encoded data removed]",
      "text/plain": [
       "<Figure size 432x288 with 1 Axes>"
      ]
     },
     "metadata": {},
     "output_type": "display_data"
    }
   ],
   "source": [
    "plot_importance(model)"
   ]
  },
  {
   "cell_type": "code",
   "execution_count": null,
   "metadata": {},
   "outputs": [],
   "source": []
  },
  {
   "cell_type": "code",
   "execution_count": 1122,
   "metadata": {},
   "outputs": [
    {
     "data": {
      "text/plain": [
       "LGBMClassifier(colsample_bytree=1, learning_rate=0.05, max_depth=7,\n",
       "               metric='binary_logloss', min_split_gain=0, n_estimators=120,\n",
       "               num_leaves=30, objective='binary', reg_alpha=0, reg_lambda=0,\n",
       "               subsample=1)"
      ]
     },
     "execution_count": 1122,
     "metadata": {},
     "output_type": "execute_result"
    }
   ],
   "source": [
    "model.fit(train_x, train_y)"
   ]
  },
  {
   "cell_type": "code",
   "execution_count": 1124,
   "metadata": {},
   "outputs": [],
   "source": [
    "pred_lgb = model.predict(test)"
   ]
  },
  {
   "cell_type": "code",
   "execution_count": 1125,
   "metadata": {},
   "outputs": [
    {
     "data": {
      "text/plain": [
       "array([2, 2, 2, ..., 2, 2, 2], dtype=int64)"
      ]
     },
     "execution_count": 1125,
     "metadata": {},
     "output_type": "execute_result"
    }
   ],
   "source": [
    "pred_lgb"
   ]
  },
  {
   "cell_type": "code",
   "execution_count": 944,
   "metadata": {},
   "outputs": [],
   "source": [
    "submission['voted']=pred_"
   ]
  },
  {
   "cell_type": "code",
   "execution_count": 945,
   "metadata": {},
   "outputs": [
    {
     "data": {
      "text/html": [
       "<div>\n",
       "<style scoped>\n",
       "    .dataframe tbody tr th:only-of-type {\n",
       "        vertical-align: middle;\n",
       "    }\n",
       "\n",
       "    .dataframe tbody tr th {\n",
       "        vertical-align: top;\n",
       "    }\n",
       "\n",
       "    .dataframe thead th {\n",
       "        text-align: right;\n",
       "    }\n",
       "</style>\n",
       "<table border=\"1\" class=\"dataframe\">\n",
       "  <thead>\n",
       "    <tr style=\"text-align: right;\">\n",
       "      <th></th>\n",
       "      <th>index</th>\n",
       "      <th>voted</th>\n",
       "    </tr>\n",
       "  </thead>\n",
       "  <tbody>\n",
       "    <tr>\n",
       "      <th>0</th>\n",
       "      <td>0</td>\n",
       "      <td>2</td>\n",
       "    </tr>\n",
       "    <tr>\n",
       "      <th>1</th>\n",
       "      <td>1</td>\n",
       "      <td>2</td>\n",
       "    </tr>\n",
       "    <tr>\n",
       "      <th>2</th>\n",
       "      <td>2</td>\n",
       "      <td>1</td>\n",
       "    </tr>\n",
       "    <tr>\n",
       "      <th>3</th>\n",
       "      <td>3</td>\n",
       "      <td>1</td>\n",
       "    </tr>\n",
       "    <tr>\n",
       "      <th>4</th>\n",
       "      <td>4</td>\n",
       "      <td>2</td>\n",
       "    </tr>\n",
       "    <tr>\n",
       "      <th>...</th>\n",
       "      <td>...</td>\n",
       "      <td>...</td>\n",
       "    </tr>\n",
       "    <tr>\n",
       "      <th>11378</th>\n",
       "      <td>11378</td>\n",
       "      <td>2</td>\n",
       "    </tr>\n",
       "    <tr>\n",
       "      <th>11379</th>\n",
       "      <td>11379</td>\n",
       "      <td>2</td>\n",
       "    </tr>\n",
       "    <tr>\n",
       "      <th>11380</th>\n",
       "      <td>11380</td>\n",
       "      <td>2</td>\n",
       "    </tr>\n",
       "    <tr>\n",
       "      <th>11381</th>\n",
       "      <td>11381</td>\n",
       "      <td>2</td>\n",
       "    </tr>\n",
       "    <tr>\n",
       "      <th>11382</th>\n",
       "      <td>11382</td>\n",
       "      <td>2</td>\n",
       "    </tr>\n",
       "  </tbody>\n",
       "</table>\n",
       "<p>11383 rows × 2 columns</p>\n",
       "</div>"
      ],
      "text/plain": [
       "       index  voted\n",
       "0          0      2\n",
       "1          1      2\n",
       "2          2      1\n",
       "3          3      1\n",
       "4          4      2\n",
       "...      ...    ...\n",
       "11378  11378      2\n",
       "11379  11379      2\n",
       "11380  11380      2\n",
       "11381  11381      2\n",
       "11382  11382      2\n",
       "\n",
       "[11383 rows x 2 columns]"
      ]
     },
     "execution_count": 945,
     "metadata": {},
     "output_type": "execute_result"
    }
   ],
   "source": [
    "submission"
   ]
  },
  {
   "cell_type": "code",
   "execution_count": 948,
   "metadata": {},
   "outputs": [],
   "source": [
    "submission.to_csv('C:/Users/SAMSUNG/Desktop/비어플/팀프로젝트 - 심리 성향 예측/open data/submission.csv')"
   ]
  }
 ],
 "metadata": {
  "kernelspec": {
   "display_name": "Python 3",
   "language": "python",
   "name": "python3"
  },
  "language_info": {
   "codemirror_mode": {
    "name": "ipython",
    "version": 3
   },
   "file_extension": ".py",
   "mimetype": "text/x-python",
   "name": "python",
   "nbconvert_exporter": "python",
   "pygments_lexer": "ipython3",
   "version": "3.8.3"
  }
 },
 "nbformat": 4,
 "nbformat_minor": 4
}
